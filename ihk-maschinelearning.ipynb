{
 "cells": [
  {
   "cell_type": "code",
   "execution_count": 1,
   "metadata": {
    "_cell_guid": "b1076dfc-b9ad-4769-8c92-a6c4dae69d19",
    "_uuid": "8f2839f25d086af736a60e9eeb907d3b93b6e0e5",
    "execution": {
     "iopub.execute_input": "2020-12-04T20:23:09.332454Z",
     "iopub.status.busy": "2020-12-04T20:23:09.331485Z",
     "iopub.status.idle": "2020-12-04T20:23:09.344055Z",
     "shell.execute_reply": "2020-12-04T20:23:09.344646Z"
    },
    "papermill": {
     "duration": 0.037849,
     "end_time": "2020-12-04T20:23:09.344860",
     "exception": false,
     "start_time": "2020-12-04T20:23:09.307011",
     "status": "completed"
    },
    "tags": []
   },
   "outputs": [
    {
     "name": "stdout",
     "output_type": "stream",
     "text": [
      "/kaggle/input/modelpb/labels.txt\n",
      "/kaggle/input/modelpb/model.pb\n",
      "/kaggle/input/imagefile/TestFile.PNG\n"
     ]
    }
   ],
   "source": [
    "# This Python 3 environment comes with many helpful analytics libraries installed\n",
    "# It is defined by the kaggle/python Docker image: https://github.com/kaggle/docker-python\n",
    "# For example, here's several helpful packages to load\n",
    "\n",
    "import numpy as np # linear algebra\n",
    "import pandas as pd # data processing, CSV file I/O (e.g. pd.read_csv)\n",
    "\n",
    "# Input data files are available in the read-only \"../input/\" directory\n",
    "# For example, running this (by clicking run or pressing Shift+Enter) will list all files under the input directory\n",
    "\n",
    "import os\n",
    "for dirname, _, filenames in os.walk('/kaggle/input'):\n",
    "    for filename in filenames:\n",
    "        print(os.path.join(dirname, filename))\n",
    "\n",
    "# You can write up to 20GB to the current directory (/kaggle/working/) that gets preserved as output when you create a version using \"Save & Run All\" \n",
    "# You can also write temporary files to /kaggle/temp/, but they won't be saved outside of the current session"
   ]
  },
  {
   "cell_type": "code",
   "execution_count": 2,
   "metadata": {
    "_cell_guid": "79c7e3d0-c299-4dcb-8224-4455121ee9b0",
    "_uuid": "d629ff2d2480ee46fbb7e2d37f6b5fab8052498a",
    "execution": {
     "iopub.execute_input": "2020-12-04T20:23:09.380534Z",
     "iopub.status.busy": "2020-12-04T20:23:09.379790Z",
     "iopub.status.idle": "2020-12-04T20:23:15.864290Z",
     "shell.execute_reply": "2020-12-04T20:23:15.863614Z"
    },
    "papermill": {
     "duration": 6.503859,
     "end_time": "2020-12-04T20:23:15.864439",
     "exception": false,
     "start_time": "2020-12-04T20:23:09.360580",
     "status": "completed"
    },
    "tags": []
   },
   "outputs": [],
   "source": [
    "import tensorflow as tf\n",
    "from tensorflow.python.platform import gfile"
   ]
  },
  {
   "cell_type": "code",
   "execution_count": 3,
   "metadata": {
    "execution": {
     "iopub.execute_input": "2020-12-04T20:23:15.910016Z",
     "iopub.status.busy": "2020-12-04T20:23:15.908347Z",
     "iopub.status.idle": "2020-12-04T20:23:16.457692Z",
     "shell.execute_reply": "2020-12-04T20:23:16.456635Z"
    },
    "papermill": {
     "duration": 0.578499,
     "end_time": "2020-12-04T20:23:16.457872",
     "exception": false,
     "start_time": "2020-12-04T20:23:15.879373",
     "status": "completed"
    },
    "tags": []
   },
   "outputs": [
    {
     "name": "stdout",
     "output_type": "stream",
     "text": [
      "load graph\n",
      "['conv0/pad_size/paddings', 'block1_0_reshape1/shape', 'block2_2_conv1/weights', 'block1_3_conv2/biases', 'block2_3_conv1/weights', 'block0_3_conv1/biases', 'block0_0_concat/axis', 'block2_1_conv2/biases', 'block0_1_slice-Slice0/size', 'block0_0_conv0/biases', 'block0_0_conv1/biases', 'block2_0_conv1/weights', 'block1_4_conv1/biases', 'block0_0_conv3/biases', 'block1_3_conv1/weights', 'block0_0_transpose/perm', 'block2_1_conv1/biases', 'block2_2_conv2/biases', 'block1_7_conv0/weights', 'block1_5_conv1/weights', 'block0_0_conv4/weights', 'block1_6_conv2/biases', 'block1_3_conv0/biases', 'block0_2_conv2/biases', 'block1_6_conv1/weights', 'block2_0_conv4/weights', 'block1_7_conv2/biases', 'block0_1_slice-Slice1/begin', 'block2_3_conv1/biases', 'block1_2_conv2/biases', 'block0_2_conv1/biases', 'block1_1_slice-Slice0/size', 'block1_2_conv0/biases', 'block2_0_conv2/weights', 'block1_2_conv1/weights', 'block2_0_conv4/biases', 'block1_0_conv1/weights', 'block0_1_conv1/weights', 'block0_1_slice-Slice0/begin', 'block1_6_conv0/biases', 'fc/weights', 'block1_1_conv2/biases', 'block1_6_conv2/weights', 'block1_4_conv2/biases', 'block1_2_conv0/weights', 'block1_3_conv0/weights', 'block2_3_conv2/weights', 'conv1/weights', 'block0_0_reshape1/shape', 'block2_0_conv1/biases', 'block1_0_conv3/weights', 'block2_1_conv1/weights', 'block1_7_conv2/weights', 'block1_1_conv0/weights', 'block0_0_conv2/biases', 'block0_3_conv1/weights', 'block1_0_conv3/biases', 'block0_3_conv2/biases', 'block1_1_conv1/biases', 'block0_1_conv2/biases', 'block1_1_conv2/weights', 'block0_0_conv0/weights', 'block2_1_conv0/weights', 'block0_2_conv1/weights', 'block0_0_conv3/weights', 'fc/biases', 'conv0/weights', 'block2_2_conv1/biases', 'block2_2_conv0/biases', 'block0_0_conv2/weights', 'block2_3_conv2/biases', 'block1_4_conv2/weights', 'block1_3_conv1/biases', 'block1_0_conv0/biases', 'fc/Reshape/shape', 'block2_0_conv2/biases', 'block1_5_conv0/weights', 'block0_1_conv0/weights', 'block0_0_reshape0/shape', 'block1_3_conv2/weights', 'block0_3_conv2/weights', 'block0_0_conv1/weights', 'block1_0_conv4/weights', 'block1_0_conv1/biases', 'block1_5_conv2/weights', 'block2_0_conv3/biases', 'block2_2_conv0/weights', 'block2_0_reshape1/shape', 'block2_3_conv0/weights', 'block1_6_conv1/biases', 'block2_1_slice-Slice1/begin', 'block2_1_slice-Slice0/size', 'block0_3_conv0/biases', 'block1_7_conv1/weights', 'block1_7_conv0/biases', 'block2_0_conv0/weights', 'conv0/biases', 'block2_3_conv0/biases', 'block1_1_slice-Slice1/begin', 'block1_0_reshape0/shape', 'block1_1_conv1/weights', 'block1_0_conv2/biases', 'block1_5_conv1/biases', 'block1_6_conv0/weights', 'block0_2_conv0/weights', 'block0_0_conv4/biases', 'block1_1_conv0/biases', 'block1_2_conv1/biases', 'block0_3_conv0/weights', 'block1_2_conv2/weights', 'block1_5_conv2/biases', 'block1_4_conv0/biases', 'data_bn/data_bn/mul', 'data_bn/data_bn/add_1', 'conv0/pad_size', 'conv0/Conv2D', 'conv0/BiasAdd', 'conv0/conv0', 'pad_size', 'pool0', 'block0_0_conv3/pad_size', 'block0_0_conv0/Conv2D', 'block0_0_conv0/BiasAdd', 'block0_0_conv0/block0_0_conv0', 'block0_0_conv1/pad_size', 'block0_1_conv1/biases', 'block0_0_conv1/depthwise', 'block0_0_conv1/BiasAdd', 'block0_0_conv2/Conv2D', 'block0_1_conv0/biases', 'block1_7_conv1/biases', 'block1_4_conv1/weights', 'block2_0_conv3/weights', 'block0_1_conv2/weights', 'block0_2_conv0/biases', 'block0_0_conv3/depthwise', 'block0_0_conv3/BiasAdd', 'block0_0_conv4/Conv2D', 'block0_0_conv4/BiasAdd', 'block0_0_conv4/block0_0_conv4', 'block2_0_reshape0/shape', 'block0_2_conv2/weights', 'block2_1_conv0/biases', 'block2_0_conv0/biases', 'block1_0_conv4/biases', 'block1_5_conv0/biases', 'block1_4_conv0/weights', 'conv1/biases', 'block0_0_conv2/BiasAdd', 'block0_0_conv2/block0_0_conv2', 'block0_0_concat', 'block0_0_reshape0', 'block0_0_transpose', 'block0_0_reshape1', 'block0_1_slice-Slice1', 'block0_1_slice-Slice0', 'block0_1_conv0/Conv2D', 'block0_1_conv0/BiasAdd', 'block0_1_conv0/block0_1_conv0', 'block0_1_conv1/pad_size', 'block0_1_conv1/depthwise', 'block0_1_conv1/BiasAdd', 'block0_1_conv2/Conv2D', 'block0_1_conv2/BiasAdd', 'block0_1_conv2/block0_1_conv2', 'block0_1_concat', 'block0_1_reshape0', 'block0_1_transpose', 'block0_1_reshape1', 'block0_2_slice-Slice1', 'block0_2_conv0/Conv2D', 'block0_2_conv0/BiasAdd', 'block0_2_slice-Slice0', 'block0_2_conv0/block0_2_conv0', 'block0_2_conv1/pad_size', 'block0_2_conv1/depthwise', 'block0_2_conv1/BiasAdd', 'block0_2_conv2/Conv2D', 'block0_2_conv2/BiasAdd', 'block0_2_conv2/block0_2_conv2', 'block0_2_concat', 'block0_2_reshape0', 'block0_2_transpose', 'block0_2_reshape1', 'block0_3_slice-Slice1', 'block0_3_slice-Slice0', 'block0_3_conv0/Conv2D', 'block0_3_conv0/BiasAdd', 'block0_3_conv0/block0_3_conv0', 'block0_3_conv1/pad_size', 'block0_3_conv1/depthwise', 'block0_3_conv1/BiasAdd', 'block0_3_conv2/Conv2D', 'block0_3_conv2/BiasAdd', 'block0_3_conv2/block0_3_conv2', 'block0_3_concat', 'block0_3_reshape0', 'block0_3_transpose', 'block0_3_reshape1', 'block1_0_conv3/pad_size', 'block1_0_conv3/depthwise', 'block1_0_conv3/BiasAdd', 'block1_0_conv4/Conv2D', 'block1_0_conv4/BiasAdd', 'block1_0_conv4/block1_0_conv4', 'block1_0_conv2/weights', 'block2_2_conv2/weights', 'block1_0_conv0/weights', 'block1_0_conv0/Conv2D', 'block1_0_conv0/BiasAdd', 'block1_0_conv0/block1_0_conv0', 'block1_0_conv1/pad_size', 'block1_0_conv1/depthwise', 'block1_0_conv1/BiasAdd', 'block1_0_conv2/Conv2D', 'block1_0_conv2/BiasAdd', 'block1_0_conv2/block1_0_conv2', 'block1_0_concat', 'block1_0_reshape0', 'block1_0_transpose', 'block1_0_reshape1', 'block1_1_slice-Slice0', 'block1_1_slice-Slice1', 'block1_1_conv0/Conv2D', 'block1_1_conv0/BiasAdd', 'block1_1_conv0/block1_1_conv0', 'block1_1_conv1/pad_size', 'block1_1_conv1/depthwise', 'block1_1_conv1/BiasAdd', 'block1_1_conv2/Conv2D', 'block1_1_conv2/BiasAdd', 'block1_1_conv2/block1_1_conv2', 'block1_1_concat', 'block1_1_reshape0', 'block1_1_transpose', 'block1_1_reshape1', 'block1_2_slice-Slice1', 'block1_2_conv0/Conv2D', 'block1_2_conv0/BiasAdd', 'block1_2_slice-Slice0', 'block1_2_conv0/block1_2_conv0', 'block1_2_conv1/pad_size', 'block1_2_conv1/depthwise', 'block1_2_conv1/BiasAdd', 'block1_2_conv2/Conv2D', 'block1_2_conv2/BiasAdd', 'block1_2_conv2/block1_2_conv2', 'block1_2_concat', 'block1_2_reshape0', 'block1_2_transpose', 'block1_2_reshape1', 'block1_3_slice-Slice1', 'block1_3_conv0/Conv2D', 'block1_3_conv0/BiasAdd', 'block1_3_conv0/block1_3_conv0', 'block1_3_conv1/pad_size', 'block1_3_slice-Slice0', 'block1_3_conv1/depthwise', 'block1_3_conv1/BiasAdd', 'block1_3_conv2/Conv2D', 'block1_3_conv2/BiasAdd', 'block1_3_conv2/block1_3_conv2', 'block1_3_concat', 'block1_3_reshape0', 'block1_3_transpose', 'block1_3_reshape1', 'block1_4_slice-Slice0', 'block1_4_slice-Slice1', 'block1_4_conv0/Conv2D', 'block1_4_conv0/BiasAdd', 'block1_4_conv0/block1_4_conv0', 'block1_4_conv1/pad_size', 'block1_4_conv1/depthwise', 'block1_4_conv1/BiasAdd', 'block1_4_conv2/Conv2D', 'block1_4_conv2/BiasAdd', 'block1_4_conv2/block1_4_conv2', 'block1_4_concat', 'block1_4_reshape0', 'block1_4_transpose', 'block1_4_reshape1', 'block1_5_slice-Slice0', 'block1_5_slice-Slice1', 'block1_5_conv0/Conv2D', 'block1_5_conv0/BiasAdd', 'block1_5_conv0/block1_5_conv0', 'block1_5_conv1/pad_size', 'block1_5_conv1/depthwise', 'block1_5_conv1/BiasAdd', 'block1_5_conv2/Conv2D', 'block1_5_conv2/BiasAdd', 'block1_5_conv2/block1_5_conv2', 'block1_5_concat', 'block1_5_reshape0', 'block1_5_transpose', 'block1_5_reshape1', 'block1_6_slice-Slice1', 'block1_6_conv0/Conv2D', 'block1_6_conv0/BiasAdd', 'block1_6_conv0/block1_6_conv0', 'block1_6_conv1/pad_size', 'block1_6_conv1/depthwise', 'block1_6_slice-Slice0', 'block1_6_conv1/BiasAdd', 'block1_6_conv2/Conv2D', 'block1_6_conv2/BiasAdd', 'block1_6_conv2/block1_6_conv2', 'block1_6_concat', 'block1_6_reshape0', 'block1_6_transpose', 'block1_6_reshape1', 'block1_7_slice-Slice0', 'block1_7_slice-Slice1', 'block1_7_conv0/Conv2D', 'block1_7_conv0/BiasAdd', 'block1_7_conv0/block1_7_conv0', 'block1_7_conv1/pad_size', 'block1_7_conv1/depthwise', 'block1_7_conv1/BiasAdd', 'block1_7_conv2/Conv2D', 'block1_7_conv2/BiasAdd', 'block1_7_conv2/block1_7_conv2', 'block1_7_concat', 'block1_7_reshape0', 'block1_7_transpose', 'block1_7_reshape1', 'block2_0_conv0/Conv2D', 'block2_0_conv0/BiasAdd', 'block2_0_conv0/block2_0_conv0', 'block2_0_conv3/pad_size', 'block2_0_conv3/depthwise', 'block2_0_conv3/BiasAdd', 'block2_0_conv1/pad_size', 'block2_0_conv1/depthwise', 'block2_0_conv1/BiasAdd', 'block2_0_conv2/Conv2D', 'block2_0_conv2/BiasAdd', 'block2_0_conv4/Conv2D', 'block2_0_conv4/BiasAdd', 'block2_0_conv4/block2_0_conv4', 'block2_0_conv2/block2_0_conv2', 'block2_0_concat', 'block2_0_reshape0', 'block2_0_transpose', 'block2_0_reshape1', 'block2_1_slice-Slice1', 'block2_1_conv0/Conv2D', 'block2_1_slice-Slice0', 'block2_1_conv0/BiasAdd', 'block2_1_conv0/block2_1_conv0', 'block2_1_conv1/pad_size', 'block2_1_conv1/depthwise', 'block2_1_conv1/BiasAdd', 'block2_1_conv2/weights', 'block2_1_conv2/Conv2D', 'block2_1_conv2/BiasAdd', 'block2_1_conv2/block2_1_conv2', 'block2_1_concat', 'block2_1_reshape0', 'block2_1_transpose', 'block2_1_reshape1', 'block2_2_slice-Slice0', 'block2_2_slice-Slice1', 'block2_2_conv0/Conv2D', 'block2_2_conv0/BiasAdd', 'block2_2_conv0/block2_2_conv0', 'block2_2_conv1/pad_size', 'block2_2_conv1/depthwise', 'block2_2_conv1/BiasAdd', 'block2_2_conv2/Conv2D', 'block2_2_conv2/BiasAdd', 'block2_2_conv2/block2_2_conv2', 'block2_2_concat', 'block2_2_reshape0', 'block2_2_transpose', 'block2_2_reshape1', 'block2_3_slice-Slice0', 'block2_3_slice-Slice1', 'block2_3_conv0/Conv2D', 'block2_3_conv0/BiasAdd', 'block2_3_conv0/block2_3_conv0', 'block2_3_conv1/pad_size', 'block2_3_conv1/depthwise', 'block2_3_conv1/BiasAdd', 'block2_3_conv2/Conv2D', 'block2_3_conv2/BiasAdd', 'block2_3_conv2/block2_3_conv2', 'block2_3_concat', 'block2_3_reshape0', 'block2_3_transpose', 'block2_3_reshape1', 'conv1/Conv2D', 'conv1/BiasAdd', 'conv1/conv1', 'pool1', 'fc/Reshape', 'fc/fc/MatMul', 'fc/fc', 'loss', 'model_outputs', 'data_bn/data_bn/Rsqrt/_0__cf__0', 'data_bn/data_bn/mul_1/_1__cf__1', 'Placeholder']\n"
     ]
    }
   ],
   "source": [
    "   import tensorflow as tf\n",
    "\n",
    "GRAPH_PB_PATH = '../input/modelpb/model.pb'\n",
    "\n",
    "with tf.compat.v1.Session() as sess:\n",
    "    print(\"load graph\")\n",
    "    with tf.io.gfile.GFile(GRAPH_PB_PATH,'rb') as f:\n",
    "        graph_def = tf.compat.v1.GraphDef()\n",
    "    graph_def.ParseFromString(f.read())\n",
    "    sess.graph.as_default()\n",
    "    tf.import_graph_def(graph_def, name='')\n",
    "    graph_nodes=[n for n in graph_def.node]\n",
    "    names = []\n",
    "    for t in graph_nodes:\n",
    "        names.append(t.name)\n",
    "    print(names)\n",
    "    \n",
    "    \n",
    "#adjustments because I am using Tensorflow 2\n",
    "# tf.compat.v1.GraphDef()   # -> instead of tf.GraphDef()\n",
    "# tf.compat.v2.io.gfile.GFile()   # -> instead of tf.gfile.GFile()\n",
    "    \n",
    "import tensorflow as tf\n",
    "from tensorflow.python.platform import gfile\n",
    "\n",
    "with tf.compat.v1.Session() as sess:\n",
    "    with gfile.FastGFile(GRAPH_PB_PATH, 'rb') as f:\n",
    "        graph_def = tf.compat.v1.GraphDef()\n",
    "        graph_def.ParseFromString(f.read())\n",
    "        g_in = tf.import_graph_def(graph_def)\n",
    "LOGDIR='C:/Users/WLi/Desktop'\n",
    "writer = tf.summary.create_file_writer(LOGDIR)\n",
    "#writer.add_graph(sess.graph)\n",
    "\n",
    "#train_writer.flush()\n",
    "\n",
    "\n",
    "with writer.as_default():\n",
    "      for step in range(100):\n",
    "    # other model code would go here\n",
    "        tf.summary.scalar(\"my_metric\", 0.5, step=step)\n",
    "        #writer.flush()\n",
    "    "
   ]
  },
  {
   "cell_type": "code",
   "execution_count": 4,
   "metadata": {
    "execution": {
     "iopub.execute_input": "2020-12-04T20:23:16.497761Z",
     "iopub.status.busy": "2020-12-04T20:23:16.496798Z",
     "iopub.status.idle": "2020-12-04T20:23:16.511255Z",
     "shell.execute_reply": "2020-12-04T20:23:16.511902Z"
    },
    "papermill": {
     "duration": 0.038039,
     "end_time": "2020-12-04T20:23:16.512074",
     "exception": false,
     "start_time": "2020-12-04T20:23:16.474035",
     "status": "completed"
    },
    "tags": []
   },
   "outputs": [
    {
     "name": "stdout",
     "output_type": "stream",
     "text": [
      "TensorFlow version:  2.3.1\n"
     ]
    }
   ],
   "source": [
    "from datetime import datetime\n",
    "from packaging import version\n",
    "\n",
    "import tensorflow as tf\n",
    "from tensorflow import keras\n",
    "\n",
    "print(\"TensorFlow version: \", tf.__version__)\n",
    "assert version.parse(tf.__version__).release[0] >= 2, \\\n",
    "    \"This notebook requires TensorFlow 2.0 or above.\""
   ]
  },
  {
   "cell_type": "code",
   "execution_count": 5,
   "metadata": {
    "execution": {
     "iopub.execute_input": "2020-12-04T20:23:16.550525Z",
     "iopub.status.busy": "2020-12-04T20:23:16.549485Z",
     "iopub.status.idle": "2020-12-04T20:23:16.553269Z",
     "shell.execute_reply": "2020-12-04T20:23:16.552512Z"
    },
    "papermill": {
     "duration": 0.024879,
     "end_time": "2020-12-04T20:23:16.553395",
     "exception": false,
     "start_time": "2020-12-04T20:23:16.528516",
     "status": "completed"
    },
    "tags": []
   },
   "outputs": [],
   "source": [
    "#%tensorboard --logdir logs"
   ]
  },
  {
   "cell_type": "markdown",
   "metadata": {
    "papermill": {
     "duration": 0.016158,
     "end_time": "2020-12-04T20:23:16.586198",
     "exception": false,
     "start_time": "2020-12-04T20:23:16.570040",
     "status": "completed"
    },
    "tags": []
   },
   "source": [
    "Try out:\n",
    "https://docs.microsoft.com/en-us/azure/cognitive-services/custom-vision-service/export-model-python"
   ]
  },
  {
   "cell_type": "code",
   "execution_count": 6,
   "metadata": {
    "execution": {
     "iopub.execute_input": "2020-12-04T20:23:16.631295Z",
     "iopub.status.busy": "2020-12-04T20:23:16.629788Z",
     "iopub.status.idle": "2020-12-04T20:23:16.719947Z",
     "shell.execute_reply": "2020-12-04T20:23:16.719253Z"
    },
    "papermill": {
     "duration": 0.117465,
     "end_time": "2020-12-04T20:23:16.720093",
     "exception": false,
     "start_time": "2020-12-04T20:23:16.602628",
     "status": "completed"
    },
    "tags": []
   },
   "outputs": [],
   "source": [
    "import tensorflow as tf\n",
    "import os\n",
    "\n",
    "graph_def = tf.compat.v1.GraphDef()\n",
    "labels = []\n",
    "\n",
    "# These are set to the default names from exported models, update as needed.\n",
    "filename = \"../input/modelpb/model.pb\"\n",
    "labels_filename = \"../input/modelpb/labels.txt\"\n",
    "\n",
    "# Import the TF graph\n",
    "with tf.io.gfile.GFile(filename, 'rb') as f:\n",
    "    graph_def.ParseFromString(f.read())\n",
    "    tf.import_graph_def(graph_def, name='')\n",
    "\n",
    "# Create a list of labels.\n",
    "with open(labels_filename, 'rt') as lf:\n",
    "    for l in lf:\n",
    "        labels.append(l.strip())"
   ]
  },
  {
   "cell_type": "code",
   "execution_count": 7,
   "metadata": {
    "execution": {
     "iopub.execute_input": "2020-12-04T20:23:16.774601Z",
     "iopub.status.busy": "2020-12-04T20:23:16.762522Z",
     "iopub.status.idle": "2020-12-04T20:23:16.778112Z",
     "shell.execute_reply": "2020-12-04T20:23:16.777302Z"
    },
    "papermill": {
     "duration": 0.041106,
     "end_time": "2020-12-04T20:23:16.778244",
     "exception": false,
     "start_time": "2020-12-04T20:23:16.737138",
     "status": "completed"
    },
    "tags": []
   },
   "outputs": [],
   "source": [
    "#importing helperfunctions\n",
    "\n",
    "def convert_to_opencv(image):\n",
    "    # RGB -> BGR conversion is performed as well.\n",
    "    image = image.convert('RGB')\n",
    "    r,g,b = np.array(image).T\n",
    "    opencv_image = np.array([b,g,r]).transpose()\n",
    "    return opencv_image\n",
    "\n",
    "def crop_center(img,cropx,cropy):\n",
    "    h, w = img.shape[:2]\n",
    "    startx = w//2-(cropx//2)\n",
    "    starty = h//2-(cropy//2)\n",
    "    return img[starty:starty+cropy, startx:startx+cropx]\n",
    "\n",
    "def resize_down_to_1600_max_dim(image):\n",
    "    h, w = image.shape[:2]\n",
    "    if (h < 1600 and w < 1600):\n",
    "        return image\n",
    "\n",
    "    new_size = (1600 * w // h, 1600) if (h > w) else (1600, 1600 * h // w)\n",
    "    return cv2.resize(image, new_size, interpolation = cv2.INTER_LINEAR)\n",
    "\n",
    "def resize_to_256_square(image):\n",
    "    h, w = image.shape[:2]\n",
    "    return cv2.resize(image, (256, 256), interpolation = cv2.INTER_LINEAR)\n",
    "\n",
    "def update_orientation(image):\n",
    "    exif_orientation_tag = 0x0112\n",
    "    if hasattr(image, '_getexif'):\n",
    "        exif = image._getexif()\n",
    "        if (exif != None and exif_orientation_tag in exif):\n",
    "            orientation = exif.get(exif_orientation_tag, 1)\n",
    "            # orientation is 1 based, shift to zero based and flip/transpose based on 0-based values\n",
    "            orientation -= 1\n",
    "            if orientation >= 4:\n",
    "                image = image.transpose(Image.TRANSPOSE)\n",
    "            if orientation == 2 or orientation == 3 or orientation == 6 or orientation == 7:\n",
    "                image = image.transpose(Image.FLIP_TOP_BOTTOM)\n",
    "            if orientation == 1 or orientation == 2 or orientation == 5 or orientation == 6:\n",
    "                image = image.transpose(Image.FLIP_LEFT_RIGHT)\n",
    "    return image"
   ]
  },
  {
   "cell_type": "code",
   "execution_count": 8,
   "metadata": {
    "execution": {
     "iopub.execute_input": "2020-12-04T20:23:16.819662Z",
     "iopub.status.busy": "2020-12-04T20:23:16.818853Z",
     "iopub.status.idle": "2020-12-04T20:23:17.029312Z",
     "shell.execute_reply": "2020-12-04T20:23:17.028374Z"
    },
    "papermill": {
     "duration": 0.233963,
     "end_time": "2020-12-04T20:23:17.029456",
     "exception": false,
     "start_time": "2020-12-04T20:23:16.795493",
     "status": "completed"
    },
    "tags": []
   },
   "outputs": [],
   "source": [
    "from PIL import Image\n",
    "import numpy as np\n",
    "import cv2\n",
    "\n",
    "# Load from a file\n",
    "imageFile = \"../input/imagefile/TestFile.PNG\"\n",
    "image = Image.open(imageFile)\n",
    "\n",
    "# Update orientation based on EXIF tags, if the file has orientation info.\n",
    "image = update_orientation(image)\n",
    "\n",
    "# Convert to OpenCV format\n",
    "image = convert_to_opencv(image)"
   ]
  },
  {
   "cell_type": "code",
   "execution_count": 9,
   "metadata": {
    "execution": {
     "iopub.execute_input": "2020-12-04T20:23:17.069503Z",
     "iopub.status.busy": "2020-12-04T20:23:17.068492Z",
     "iopub.status.idle": "2020-12-04T20:23:17.072004Z",
     "shell.execute_reply": "2020-12-04T20:23:17.072626Z"
    },
    "papermill": {
     "duration": 0.026284,
     "end_time": "2020-12-04T20:23:17.072833",
     "exception": false,
     "start_time": "2020-12-04T20:23:17.046549",
     "status": "completed"
    },
    "tags": []
   },
   "outputs": [
    {
     "name": "stdout",
     "output_type": "stream",
     "text": [
      "(213, 293, 3)\n"
     ]
    }
   ],
   "source": [
    "print(image.shape)"
   ]
  },
  {
   "cell_type": "code",
   "execution_count": 10,
   "metadata": {
    "execution": {
     "iopub.execute_input": "2020-12-04T20:23:17.114245Z",
     "iopub.status.busy": "2020-12-04T20:23:17.113452Z",
     "iopub.status.idle": "2020-12-04T20:23:17.116855Z",
     "shell.execute_reply": "2020-12-04T20:23:17.116074Z"
    },
    "papermill": {
     "duration": 0.025999,
     "end_time": "2020-12-04T20:23:17.116987",
     "exception": false,
     "start_time": "2020-12-04T20:23:17.090988",
     "status": "completed"
    },
    "tags": []
   },
   "outputs": [],
   "source": [
    "# If the image has either w or h greater than 1600 we resize it down respecting\n",
    "# aspect ratio such that the largest dimension is 1600\n",
    "image = resize_down_to_1600_max_dim(image)"
   ]
  },
  {
   "cell_type": "code",
   "execution_count": 11,
   "metadata": {
    "execution": {
     "iopub.execute_input": "2020-12-04T20:23:17.158982Z",
     "iopub.status.busy": "2020-12-04T20:23:17.158232Z",
     "iopub.status.idle": "2020-12-04T20:23:17.161080Z",
     "shell.execute_reply": "2020-12-04T20:23:17.161601Z"
    },
    "papermill": {
     "duration": 0.026887,
     "end_time": "2020-12-04T20:23:17.161778",
     "exception": false,
     "start_time": "2020-12-04T20:23:17.134891",
     "status": "completed"
    },
    "tags": []
   },
   "outputs": [],
   "source": [
    "# We next get the largest center square\n",
    "h, w = image.shape[:2]\n",
    "min_dim = min(w,h)\n",
    "max_square_image = crop_center(image, min_dim, min_dim)"
   ]
  },
  {
   "cell_type": "code",
   "execution_count": 12,
   "metadata": {
    "execution": {
     "iopub.execute_input": "2020-12-04T20:23:17.204300Z",
     "iopub.status.busy": "2020-12-04T20:23:17.203502Z",
     "iopub.status.idle": "2020-12-04T20:23:17.215307Z",
     "shell.execute_reply": "2020-12-04T20:23:17.215902Z"
    },
    "papermill": {
     "duration": 0.03628,
     "end_time": "2020-12-04T20:23:17.216076",
     "exception": false,
     "start_time": "2020-12-04T20:23:17.179796",
     "status": "completed"
    },
    "tags": []
   },
   "outputs": [],
   "source": [
    "# Resize that square down to 256x256\n",
    "augmented_image = resize_to_256_square(max_square_image)"
   ]
  },
  {
   "cell_type": "code",
   "execution_count": 13,
   "metadata": {
    "execution": {
     "iopub.execute_input": "2020-12-04T20:23:17.260210Z",
     "iopub.status.busy": "2020-12-04T20:23:17.259269Z",
     "iopub.status.idle": "2020-12-04T20:23:17.263910Z",
     "shell.execute_reply": "2020-12-04T20:23:17.263154Z"
    },
    "papermill": {
     "duration": 0.029772,
     "end_time": "2020-12-04T20:23:17.264042",
     "exception": false,
     "start_time": "2020-12-04T20:23:17.234270",
     "status": "completed"
    },
    "tags": []
   },
   "outputs": [],
   "source": [
    "# Get the input size of the model\n",
    "with tf.compat.v1.Session() as sess:\n",
    "    input_tensor_shape = sess.graph.get_tensor_by_name('Placeholder:0').shape.as_list()\n",
    "network_input_size = input_tensor_shape[1]\n",
    "\n",
    "# Crop the center for the specified network_input_Size\n",
    "augmented_image = crop_center(augmented_image, network_input_size, network_input_size)"
   ]
  },
  {
   "cell_type": "code",
   "execution_count": 14,
   "metadata": {
    "execution": {
     "iopub.execute_input": "2020-12-04T20:23:17.308012Z",
     "iopub.status.busy": "2020-12-04T20:23:17.306977Z",
     "iopub.status.idle": "2020-12-04T20:23:17.310787Z",
     "shell.execute_reply": "2020-12-04T20:23:17.311375Z"
    },
    "papermill": {
     "duration": 0.028358,
     "end_time": "2020-12-04T20:23:17.311532",
     "exception": false,
     "start_time": "2020-12-04T20:23:17.283174",
     "status": "completed"
    },
    "tags": []
   },
   "outputs": [
    {
     "name": "stdout",
     "output_type": "stream",
     "text": [
      "(224, 224, 3)\n"
     ]
    }
   ],
   "source": [
    "print(augmented_image.shape)"
   ]
  },
  {
   "cell_type": "code",
   "execution_count": 15,
   "metadata": {
    "execution": {
     "iopub.execute_input": "2020-12-04T20:23:17.358929Z",
     "iopub.status.busy": "2020-12-04T20:23:17.357869Z",
     "iopub.status.idle": "2020-12-04T20:23:17.722001Z",
     "shell.execute_reply": "2020-12-04T20:23:17.721174Z"
    },
    "papermill": {
     "duration": 0.391253,
     "end_time": "2020-12-04T20:23:17.722134",
     "exception": false,
     "start_time": "2020-12-04T20:23:17.330881",
     "status": "completed"
    },
    "tags": []
   },
   "outputs": [],
   "source": [
    "# These names are part of the model and cannot be changed.\n",
    "output_layer = 'loss:0'\n",
    "input_node = 'Placeholder:0'\n",
    "\n",
    "with tf.compat.v1.Session() as sess:\n",
    "    try:\n",
    "        prob_tensor = sess.graph.get_tensor_by_name(output_layer)\n",
    "        predictions = sess.run(prob_tensor, {input_node: [augmented_image] })\n",
    "    except KeyError:\n",
    "        print (\"Couldn't find classification output layer: \" + output_layer + \".\")\n",
    "        print (\"Verify this a model exported from an Object Detection project.\")\n",
    "        exit(-1)"
   ]
  },
  {
   "cell_type": "code",
   "execution_count": 16,
   "metadata": {
    "execution": {
     "iopub.execute_input": "2020-12-04T20:23:17.768248Z",
     "iopub.status.busy": "2020-12-04T20:23:17.767383Z",
     "iopub.status.idle": "2020-12-04T20:23:17.772466Z",
     "shell.execute_reply": "2020-12-04T20:23:17.771715Z"
    },
    "papermill": {
     "duration": 0.031373,
     "end_time": "2020-12-04T20:23:17.772585",
     "exception": false,
     "start_time": "2020-12-04T20:23:17.741212",
     "status": "completed"
    },
    "tags": []
   },
   "outputs": [
    {
     "name": "stdout",
     "output_type": "stream",
     "text": [
      "Classified as: Negative\n",
      "\n",
      "Negative [0.53689587 0.07309896 0.39000517]\n"
     ]
    }
   ],
   "source": [
    "    # Print the highest probability label\n",
    "    highest_probability_index = np.argmax(predictions)\n",
    "    print('Classified as: ' + labels[highest_probability_index])\n",
    "    print()\n",
    "\n",
    "    # Or you can print out all of the results mapping labels to probabilities.\n",
    "    label_index = 0\n",
    "    for p in predictions:\n",
    "        truncated_probablity = np.float64(np.round(p,8))\n",
    "        print (labels[label_index], truncated_probablity)\n",
    "        label_index += 1"
   ]
  }
 ],
 "metadata": {
  "kernelspec": {
   "display_name": "Python 3",
   "language": "python",
   "name": "python3"
  },
  "language_info": {
   "codemirror_mode": {
    "name": "ipython",
    "version": 3
   },
   "file_extension": ".py",
   "mimetype": "text/x-python",
   "name": "python",
   "nbconvert_exporter": "python",
   "pygments_lexer": "ipython3",
   "version": "3.7.6"
  },
  "papermill": {
   "duration": 13.722302,
   "end_time": "2020-12-04T20:23:17.902720",
   "environment_variables": {},
   "exception": null,
   "input_path": "__notebook__.ipynb",
   "output_path": "__notebook__.ipynb",
   "parameters": {},
   "start_time": "2020-12-04T20:23:04.180418",
   "version": "2.1.0"
  }
 },
 "nbformat": 4,
 "nbformat_minor": 4
}
